{
 "cells": [
  {
   "cell_type": "code",
   "execution_count": 3,
   "id": "820ff58f",
   "metadata": {},
   "outputs": [
    {
     "name": "stdout",
     "output_type": "stream",
     "text": [
      "Requirement already satisfied: matplotlib in c:\\users\\sy_higas\\l\\anaconda3\\lib\\site-packages (3.7.2)\n",
      "Requirement already satisfied: contourpy>=1.0.1 in c:\\users\\sy_higas\\l\\anaconda3\\lib\\site-packages (from matplotlib) (1.0.5)\n",
      "Requirement already satisfied: cycler>=0.10 in c:\\users\\sy_higas\\l\\anaconda3\\lib\\site-packages (from matplotlib) (0.11.0)\n",
      "Requirement already satisfied: fonttools>=4.22.0 in c:\\users\\sy_higas\\l\\anaconda3\\lib\\site-packages (from matplotlib) (4.25.0)\n",
      "Requirement already satisfied: kiwisolver>=1.0.1 in c:\\users\\sy_higas\\l\\anaconda3\\lib\\site-packages (from matplotlib) (1.4.4)\n",
      "Requirement already satisfied: numpy>=1.20 in c:\\users\\sy_higas\\l\\anaconda3\\lib\\site-packages (from matplotlib) (1.24.3)\n",
      "Requirement already satisfied: packaging>=20.0 in c:\\users\\sy_higas\\l\\anaconda3\\lib\\site-packages (from matplotlib) (23.1)\n",
      "Requirement already satisfied: pillow>=6.2.0 in c:\\users\\sy_higas\\l\\anaconda3\\lib\\site-packages (from matplotlib) (9.4.0)\n",
      "Requirement already satisfied: pyparsing<3.1,>=2.3.1 in c:\\users\\sy_higas\\l\\anaconda3\\lib\\site-packages (from matplotlib) (3.0.9)\n",
      "Requirement already satisfied: python-dateutil>=2.7 in c:\\users\\sy_higas\\l\\anaconda3\\lib\\site-packages (from matplotlib) (2.8.2)\n",
      "Requirement already satisfied: six>=1.5 in c:\\users\\sy_higas\\l\\anaconda3\\lib\\site-packages (from python-dateutil>=2.7->matplotlib) (1.16.0)\n"
     ]
    }
   ],
   "source": [
    "!pip3 install matplotlib"
   ]
  },
  {
   "cell_type": "code",
   "execution_count": 2,
   "id": "47f71dc3",
   "metadata": {},
   "outputs": [
    {
     "name": "stdout",
     "output_type": "stream",
     "text": [
      "Requirement already satisfied: yfinance in c:\\users\\sy_higas\\l\\anaconda3\\lib\\site-packages (0.2.37)\n",
      "Requirement already satisfied: pandas>=1.3.0 in c:\\users\\sy_higas\\l\\anaconda3\\lib\\site-packages (from yfinance) (2.0.3)\n",
      "Requirement already satisfied: numpy>=1.16.5 in c:\\users\\sy_higas\\l\\anaconda3\\lib\\site-packages (from yfinance) (1.24.3)\n",
      "Requirement already satisfied: requests>=2.31 in c:\\users\\sy_higas\\l\\anaconda3\\lib\\site-packages (from yfinance) (2.31.0)\n",
      "Requirement already satisfied: multitasking>=0.0.7 in c:\\users\\sy_higas\\l\\anaconda3\\lib\\site-packages (from yfinance) (0.0.11)\n",
      "Requirement already satisfied: lxml>=4.9.1 in c:\\users\\sy_higas\\l\\anaconda3\\lib\\site-packages (from yfinance) (4.9.3)\n",
      "Requirement already satisfied: appdirs>=1.4.4 in c:\\users\\sy_higas\\l\\anaconda3\\lib\\site-packages (from yfinance) (1.4.4)\n",
      "Requirement already satisfied: pytz>=2022.5 in c:\\users\\sy_higas\\l\\anaconda3\\lib\\site-packages (from yfinance) (2023.3.post1)\n",
      "Requirement already satisfied: frozendict>=2.3.4 in c:\\users\\sy_higas\\l\\anaconda3\\lib\\site-packages (from yfinance) (2.4.0)\n",
      "Requirement already satisfied: peewee>=3.16.2 in c:\\users\\sy_higas\\l\\anaconda3\\lib\\site-packages (from yfinance) (3.17.1)\n",
      "Requirement already satisfied: beautifulsoup4>=4.11.1 in c:\\users\\sy_higas\\l\\anaconda3\\lib\\site-packages (from yfinance) (4.12.2)\n",
      "Requirement already satisfied: html5lib>=1.1 in c:\\users\\sy_higas\\l\\anaconda3\\lib\\site-packages (from yfinance) (1.1)\n",
      "Requirement already satisfied: soupsieve>1.2 in c:\\users\\sy_higas\\l\\anaconda3\\lib\\site-packages (from beautifulsoup4>=4.11.1->yfinance) (2.4)\n",
      "Requirement already satisfied: six>=1.9 in c:\\users\\sy_higas\\l\\anaconda3\\lib\\site-packages (from html5lib>=1.1->yfinance) (1.16.0)\n",
      "Requirement already satisfied: webencodings in c:\\users\\sy_higas\\l\\anaconda3\\lib\\site-packages (from html5lib>=1.1->yfinance) (0.5.1)\n",
      "Requirement already satisfied: python-dateutil>=2.8.2 in c:\\users\\sy_higas\\l\\anaconda3\\lib\\site-packages (from pandas>=1.3.0->yfinance) (2.8.2)\n",
      "Requirement already satisfied: tzdata>=2022.1 in c:\\users\\sy_higas\\l\\anaconda3\\lib\\site-packages (from pandas>=1.3.0->yfinance) (2023.3)\n",
      "Requirement already satisfied: charset-normalizer<4,>=2 in c:\\users\\sy_higas\\l\\anaconda3\\lib\\site-packages (from requests>=2.31->yfinance) (2.0.4)\n",
      "Requirement already satisfied: idna<4,>=2.5 in c:\\users\\sy_higas\\l\\anaconda3\\lib\\site-packages (from requests>=2.31->yfinance) (3.4)\n",
      "Requirement already satisfied: urllib3<3,>=1.21.1 in c:\\users\\sy_higas\\l\\anaconda3\\lib\\site-packages (from requests>=2.31->yfinance) (1.26.16)\n",
      "Requirement already satisfied: certifi>=2017.4.17 in c:\\users\\sy_higas\\l\\anaconda3\\lib\\site-packages (from requests>=2.31->yfinance) (2023.7.22)\n"
     ]
    }
   ],
   "source": [
    "!pip3 install yfinance"
   ]
  },
  {
   "cell_type": "code",
   "execution_count": 6,
   "id": "346436c5",
   "metadata": {},
   "outputs": [],
   "source": [
    "import pandas as pd\n",
    "import matplotlib.pyplot as plt\n",
    "import yfinance as yf\n",
    "\n",
    "%matplotlib inline"
   ]
  },
  {
   "cell_type": "code",
   "execution_count": 9,
   "id": "eb7aef9f",
   "metadata": {},
   "outputs": [
    {
     "data": {
      "text/html": [
       "<div>\n",
       "<style scoped>\n",
       "    .dataframe tbody tr th:only-of-type {\n",
       "        vertical-align: middle;\n",
       "    }\n",
       "\n",
       "    .dataframe tbody tr th {\n",
       "        vertical-align: top;\n",
       "    }\n",
       "\n",
       "    .dataframe thead th {\n",
       "        text-align: right;\n",
       "    }\n",
       "</style>\n",
       "<table border=\"1\" class=\"dataframe\">\n",
       "  <thead>\n",
       "    <tr style=\"text-align: right;\">\n",
       "      <th>Date</th>\n",
       "      <th>29 February 2024</th>\n",
       "      <th>01 March 2024</th>\n",
       "      <th>04 March 2024</th>\n",
       "      <th>05 March 2024</th>\n",
       "      <th>06 March 2024</th>\n",
       "      <th>07 March 2024</th>\n",
       "      <th>08 March 2024</th>\n",
       "      <th>11 March 2024</th>\n",
       "      <th>12 March 2024</th>\n",
       "      <th>13 March 2024</th>\n",
       "      <th>14 March 2024</th>\n",
       "      <th>15 March 2024</th>\n",
       "      <th>18 March 2024</th>\n",
       "      <th>19 March 2024</th>\n",
       "      <th>20 March 2024</th>\n",
       "      <th>21 March 2024</th>\n",
       "      <th>22 March 2024</th>\n",
       "      <th>25 March 2024</th>\n",
       "      <th>26 March 2024</th>\n",
       "      <th>27 March 2024</th>\n",
       "    </tr>\n",
       "    <tr>\n",
       "      <th>Name</th>\n",
       "      <th></th>\n",
       "      <th></th>\n",
       "      <th></th>\n",
       "      <th></th>\n",
       "      <th></th>\n",
       "      <th></th>\n",
       "      <th></th>\n",
       "      <th></th>\n",
       "      <th></th>\n",
       "      <th></th>\n",
       "      <th></th>\n",
       "      <th></th>\n",
       "      <th></th>\n",
       "      <th></th>\n",
       "      <th></th>\n",
       "      <th></th>\n",
       "      <th></th>\n",
       "      <th></th>\n",
       "      <th></th>\n",
       "      <th></th>\n",
       "    </tr>\n",
       "  </thead>\n",
       "  <tbody>\n",
       "    <tr>\n",
       "      <th>apple</th>\n",
       "      <td>180.75</td>\n",
       "      <td>179.660004</td>\n",
       "      <td>175.100006</td>\n",
       "      <td>170.119995</td>\n",
       "      <td>169.119995</td>\n",
       "      <td>169.0</td>\n",
       "      <td>170.729996</td>\n",
       "      <td>172.75</td>\n",
       "      <td>173.229996</td>\n",
       "      <td>171.130005</td>\n",
       "      <td>173.0</td>\n",
       "      <td>172.619995</td>\n",
       "      <td>173.720001</td>\n",
       "      <td>176.080002</td>\n",
       "      <td>178.669998</td>\n",
       "      <td>171.369995</td>\n",
       "      <td>172.279999</td>\n",
       "      <td>170.850006</td>\n",
       "      <td>169.710007</td>\n",
       "      <td>173.309998</td>\n",
       "    </tr>\n",
       "  </tbody>\n",
       "</table>\n",
       "</div>"
      ],
      "text/plain": [
       "Date   29 February 2024  01 March 2024  04 March 2024  05 March 2024  \\\n",
       "Name                                                                   \n",
       "apple            180.75     179.660004     175.100006     170.119995   \n",
       "\n",
       "Date   06 March 2024  07 March 2024  08 March 2024  11 March 2024  \\\n",
       "Name                                                                \n",
       "apple     169.119995          169.0     170.729996         172.75   \n",
       "\n",
       "Date   12 March 2024  13 March 2024  14 March 2024  15 March 2024  \\\n",
       "Name                                                                \n",
       "apple     173.229996     171.130005          173.0     172.619995   \n",
       "\n",
       "Date   18 March 2024  19 March 2024  20 March 2024  21 March 2024  \\\n",
       "Name                                                                \n",
       "apple     173.720001     176.080002     178.669998     171.369995   \n",
       "\n",
       "Date   22 March 2024  25 March 2024  26 March 2024  27 March 2024  \n",
       "Name                                                               \n",
       "apple     172.279999     170.850006     169.710007     173.309998  "
      ]
     },
     "execution_count": 9,
     "metadata": {},
     "output_type": "execute_result"
    }
   ],
   "source": [
    "aapl = yf.Ticker('AAPL')\n",
    " \n",
    "days = 20\n",
    "hist = aapl.history(period=f'{days}d')\n",
    "hist.index=hist.index.strftime('%d %B %Y')\n",
    " \n",
    "hist = hist[['Close']]\n",
    "hist.columns = ['apple']\n",
    " \n",
    "hist=hist.T\n",
    "hist.index.name='Name'\n",
    "hist"
   ]
  },
  {
   "cell_type": "code",
   "execution_count": null,
   "id": "bb671b0c",
   "metadata": {},
   "outputs": [],
   "source": []
  }
 ],
 "metadata": {
  "kernelspec": {
   "display_name": "Python 3 (ipykernel)",
   "language": "python",
   "name": "python3"
  },
  "language_info": {
   "codemirror_mode": {
    "name": "ipython",
    "version": 3
   },
   "file_extension": ".py",
   "mimetype": "text/x-python",
   "name": "python",
   "nbconvert_exporter": "python",
   "pygments_lexer": "ipython3",
   "version": "3.11.5"
  }
 },
 "nbformat": 4,
 "nbformat_minor": 5
}
